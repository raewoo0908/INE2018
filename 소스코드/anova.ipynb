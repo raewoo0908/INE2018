{
 "cells": [
  {
   "cell_type": "code",
   "execution_count": 9,
   "metadata": {},
   "outputs": [],
   "source": [
    "import numpy as np\n",
    "import pandas as pd\n",
    "import seaborn as sns\n",
    "import matplotlib.pyplot as plt\n",
    "from scipy.stats import pearsonr\n",
    "from scipy.stats import f_oneway\n",
    "import statsmodels.api as sm\n",
    "import statsmodels.formula.api as smf\n",
    "import statsmodels.stats.multicomp as mc\n",
    "from scipy import stats"
   ]
  },
  {
   "cell_type": "markdown",
   "metadata": {},
   "source": [
    "# ANOVA: CN, MCI, Dem 그룹의 sleep_score가 차이나는 지 검사\n",
    "* H0: CN, MCI, Dem의 평균 수면 점수는 서로 동일하다 (치매 단계 간 수면 점수의 평균에 차이가 없다.)\n",
    "* H1: CN, MCI, Dem 세 그룹 중 적어도 하나의 그룹의 수면 점수가 다른 그룹과 차이가 있다.\n",
    "* alpha = 0.05\n",
    "\n",
    "## 분석 결과:\n",
    "    각 진단명 CN, MCI, Dem에서 sleep_score에 유의미한 차이가 없다."
   ]
  },
  {
   "cell_type": "markdown",
   "metadata": {},
   "source": [
    "### 데이터세트 불러오기"
   ]
  },
  {
   "cell_type": "code",
   "execution_count": 10,
   "metadata": {},
   "outputs": [],
   "source": [
    "df = pd.read_excel(\"dataset_added.xlsx\")"
   ]
  },
  {
   "cell_type": "markdown",
   "metadata": {},
   "source": [
    "### ANOVA TABLE"
   ]
  },
  {
   "cell_type": "code",
   "execution_count": 11,
   "metadata": {},
   "outputs": [
    {
     "name": "stdout",
     "output_type": "stream",
     "text": [
      "                    df       sum_sq    mean_sq       F    PR(>F)\n",
      "C(DIAG_NM, Sum)    2.0    36.865094  18.432547  0.3169  0.728831\n",
      "Residual         171.0  9946.256147  58.165241     NaN       NaN\n",
      "\n",
      "H0를 기각하지 않습니다.\n",
      "수면시간은 각 진단명에 따른 차이가 없다고 볼 수 있습니다.\n"
     ]
    }
   ],
   "source": [
    "sleep_score_fit = smf.ols(\"sleep_score~C(DIAG_NM, Sum)\", data = df).fit()\n",
    "table = sm.stats.anova_lm(sleep_score_fit)\n",
    "print(table)\n",
    "\n",
    "alpha = 0.05\n",
    "p_value = table['PR(>F)'].iloc[0]\n",
    "if (p_value > alpha):\n",
    "    print(\"\\nH0를 기각하지 않습니다.\\n수면시간은 각 진단명에 따른 차이가 없다고 볼 수 있습니다.\")\n",
    "else:\n",
    "    print(\"\\nH0를 기각합니다.\\n수면시간은 각 진단명에 따라 차이가 있습니다.\")"
   ]
  },
  {
   "cell_type": "markdown",
   "metadata": {},
   "source": [
    "### Mulicomparison table"
   ]
  },
  {
   "cell_type": "code",
   "execution_count": 12,
   "metadata": {},
   "outputs": [
    {
     "data": {
      "text/html": [
       "<table class=\"simpletable\">\n",
       "<caption>Test Multiple Comparison ttest_ind \n",
       "FWER=0.05 method=bonf\n",
       "alphacSidak=0.02, alphacBonf=0.017</caption>\n",
       "<tr>\n",
       "  <th>group1</th> <th>group2</th>  <th>stat</th>   <th>pval</th>  <th>pval_corr</th> <th>reject</th>\n",
       "</tr>\n",
       "<tr>\n",
       "    <td>CN</td>     <td>Dem</td>  <td>0.4222</td> <td>0.6736</td>    <td>1.0</td>     <td>False</td>\n",
       "</tr>\n",
       "<tr>\n",
       "    <td>CN</td>     <td>MCI</td>   <td>0.743</td> <td>0.4586</td>    <td>1.0</td>     <td>False</td>\n",
       "</tr>\n",
       "<tr>\n",
       "    <td>Dem</td>    <td>MCI</td>  <td>-0.025</td> <td>0.9801</td>    <td>1.0</td>     <td>False</td>\n",
       "</tr>\n",
       "</table>"
      ],
      "text/latex": [
       "\\begin{center}\n",
       "\\begin{tabular}{cccccc}\n",
       "\\toprule\n",
       "\\textbf{group1} & \\textbf{group2} & \\textbf{stat} & \\textbf{pval} & \\textbf{pval\\_corr} & \\textbf{reject}  \\\\\n",
       "\\midrule\n",
       "       CN       &       Dem       &     0.4222    &     0.6736    &         1.0         &      False       \\\\\n",
       "       CN       &       MCI       &     0.743     &     0.4586    &         1.0         &      False       \\\\\n",
       "      Dem       &       MCI       &     -0.025    &     0.9801    &         1.0         &      False       \\\\\n",
       "\\bottomrule\n",
       "\\end{tabular}\n",
       "%\\caption{Test Multiple Comparison ttest_ind \n",
       "FWER=0.05 method=bonf\n",
       "alphacSidak=0.02, alphacBonf=0.017}\n",
       "\\end{center}"
      ],
      "text/plain": [
       "<class 'statsmodels.iolib.table.SimpleTable'>"
      ]
     },
     "execution_count": 12,
     "metadata": {},
     "output_type": "execute_result"
    }
   ],
   "source": [
    "comp = mc.MultiComparison(df['sleep_score'], df['DIAG_NM'])\n",
    "compatible,_,_ = comp.allpairtest(stats.ttest_ind, method = 'bonf')\n",
    "compatible"
   ]
  }
 ],
 "metadata": {
  "kernelspec": {
   "display_name": "Python 3",
   "language": "python",
   "name": "python3"
  },
  "language_info": {
   "codemirror_mode": {
    "name": "ipython",
    "version": 3
   },
   "file_extension": ".py",
   "mimetype": "text/x-python",
   "name": "python",
   "nbconvert_exporter": "python",
   "pygments_lexer": "ipython3",
   "version": "3.9.6"
  }
 },
 "nbformat": 4,
 "nbformat_minor": 2
}
