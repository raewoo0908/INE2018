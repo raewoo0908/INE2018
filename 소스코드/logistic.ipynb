{
 "cells": [
  {
   "cell_type": "code",
   "execution_count": 76,
   "metadata": {},
   "outputs": [],
   "source": [
    "import numpy as np\n",
    "import pandas as pd\n",
    "import seaborn as sns\n",
    "import matplotlib.pyplot as plt\n",
    "from scipy.stats import pearsonr\n",
    "from scipy.stats import f_oneway\n",
    "import statsmodels.api as sm\n",
    "import statsmodels.formula.api as smf\n",
    "import statsmodels.stats.multicomp as mc\n",
    "from scipy import stats"
   ]
  },
  {
   "cell_type": "markdown",
   "metadata": {},
   "source": [
    "# Binary Logistic regression : between sleep factors and CN / non-CN"
   ]
  },
  {
   "cell_type": "markdown",
   "metadata": {},
   "source": [
    "### 데이터 전처리\n",
    "* sleep 관련 속성들과 DIAG_NM의 속성을 CN: 0, non-CN: 1로 치환하여 dataframe 생성"
   ]
  },
  {
   "cell_type": "code",
   "execution_count": 77,
   "metadata": {},
   "outputs": [
    {
     "name": "stdout",
     "output_type": "stream",
     "text": [
      "Resampled class distribution with SMOTE: Counter({1: 111, 0: 111})\n"
     ]
    }
   ],
   "source": [
    "from imblearn.over_sampling import SMOTE\n",
    "from collections import Counter\n",
    "\n",
    "data = pd.read_excel(\"dataset_added.xlsx\")\n",
    "\n",
    "#sleep 관련 변수 필터링\n",
    "sleep_cols = [col for col in data.columns if 'sleep_' in col.lower()]\n",
    "sleep_data = data[sleep_cols]\n",
    "\n",
    "x_bin = sleep_data\n",
    "\n",
    "mapping = {'CN': 0, 'MCI': 1, 'Dem': 1}\n",
    "data['DIAG_NM_numeric'] = data['DIAG_NM'].map(mapping)\n",
    "y_bin = data['DIAG_NM_numeric']\n",
    "\n",
    "# 오버샘플링 수행\n",
    "smote = SMOTE(random_state=42)\n",
    "x_res, y_res = smote.fit_resample(x_bin, y_bin)\n",
    "\n",
    "# # NumPy 배열로 반환된 결과를 DataFrame으로 변환 (X_train이 DataFrame일 때)\n",
    "# if isinstance(x_bin, pd.DataFrame):\n",
    "#     X_res = pd.DataFrame(x_res, columns=x_bin.columns)\n",
    "#     Y_res = pd.Series(y_res, name=y_bin.name)\n",
    "\n",
    "# 클래스 비율 확인\n",
    "print(\"Resampled class distribution with SMOTE:\", Counter(y_res))\n",
    "\n",
    "# Resampled 데이터를 DataFrame으로 변환\n",
    "smote_df = pd.DataFrame(x_res, columns=x_bin.columns)\n",
    "smote_df['DIAG_NM_numeric'] = y_res\n",
    "\n",
    "#new_df_bin = pd.concat([x_bin, y_bin], axis=1)\n"
   ]
  },
  {
   "cell_type": "markdown",
   "metadata": {},
   "source": [
    "### test-set, train-set 분리"
   ]
  },
  {
   "cell_type": "code",
   "execution_count": 78,
   "metadata": {},
   "outputs": [
    {
     "name": "stdout",
     "output_type": "stream",
     "text": [
      "The dimension of the trainset is  (155, 26)\n",
      "The dimension of the testset is  (67, 26)\n",
      "DIAG_NM_numeric\n",
      "0    0.503226\n",
      "1    0.496774\n",
      "Name: proportion, dtype: float64\n"
     ]
    }
   ],
   "source": [
    "from sklearn.model_selection import train_test_split\n",
    "\n",
    "x_train, x_test, y_train, y_test = train_test_split(smote_df.iloc[:,:-1], \n",
    "                                                    smote_df.iloc[:,-1], \n",
    "                                                    test_size=0.3, \n",
    "                                                    shuffle=True, \n",
    "                                                    stratify=smote_df['DIAG_NM_numeric'])\n",
    "\n",
    "print(\"The dimension of the trainset is \", x_train.shape)\n",
    "print(\"The dimension of the testset is \", x_test.shape)\n",
    "print(y_train.value_counts(normalize=True))"
   ]
  },
  {
   "cell_type": "code",
   "execution_count": 79,
   "metadata": {},
   "outputs": [],
   "source": [
    "from sklearn.preprocessing import StandardScaler, OneHotEncoder\n",
    "\n",
    "scaler = StandardScaler()\n",
    "xtrain_scaled = scaler.fit_transform(x_train)\n",
    "xtest_scaled = scaler.fit_transform(x_test)"
   ]
  },
  {
   "cell_type": "markdown",
   "metadata": {},
   "source": [
    "### Training with Logistic regression"
   ]
  },
  {
   "cell_type": "code",
   "execution_count": 80,
   "metadata": {},
   "outputs": [
    {
     "name": "stdout",
     "output_type": "stream",
     "text": [
      "_____________________________________________\n",
      "regression coefficients are  {'sleep_awake': np.float64(0.18139072090582395), 'sleep_breath_average': np.float64(0.12531734343158787), 'sleep_deep': np.float64(-0.09240168339244906), 'sleep_duration': np.float64(0.4601774046220855), 'sleep_efficiency': np.float64(-0.03628015236002518), 'sleep_hr_average': np.float64(-0.29478846910829126), 'sleep_hr_lowest': np.float64(0.10014011479657772), 'sleep_light': np.float64(0.5300618582789681), 'sleep_midpoint_at_delta': np.float64(-0.23111882294940975), 'sleep_midpoint_time': np.float64(-0.4067050281027598), 'sleep_onset_latency': np.float64(-0.07562973034458681), 'sleep_period_id': np.float64(0.07994866717260782), 'sleep_rem': np.float64(0.09772103526142396), 'sleep_restless': np.float64(-0.004814112284939308), 'sleep_rmssd': np.float64(-0.44661398986335027), 'sleep_score': np.float64(-0.15175030099320366), 'sleep_score_alignment': np.float64(0.4693019767822191), 'sleep_score_deep': np.float64(-0.05564435710758964), 'sleep_score_disturbances': np.float64(0.49651423272663836), 'sleep_score_efficiency': np.float64(-0.2822864582155836), 'sleep_score_latency': np.float64(0.05218567199002889), 'sleep_score_rem': np.float64(-0.5428026201661107), 'sleep_score_total': np.float64(-0.23694700230223031), 'sleep_temperature_delta': np.float64(-0.010288114440120358), 'sleep_temperature_deviation': np.float64(-0.010288114440120358), 'sleep_total': np.float64(0.44984343059687487)}\n",
      "inpercept is  [-0.03613495]\n",
      "model score is  0.6258064516129033\n",
      "_____________________________________________\n"
     ]
    }
   ],
   "source": [
    "from sklearn.linear_model import LogisticRegression\n",
    "\n",
    "model1 = LogisticRegression(tol=1e-08).fit(xtrain_scaled, y_train)\n",
    "coef = {}\n",
    "i = 0\n",
    "for col in x_bin.columns:\n",
    "    coef.setdefault(col,model1.coef_[0][i])\n",
    "    i += 1\n",
    "print(\"_____________________________________________\")\n",
    "print(\"regression coefficients are \", coef)\n",
    "print(\"inpercept is \", model1.intercept_)\n",
    "print(\"model score is \", model1.score(xtrain_scaled, y_train))\n",
    "print(\"_____________________________________________\")"
   ]
  },
  {
   "cell_type": "code",
   "execution_count": 81,
   "metadata": {},
   "outputs": [
    {
     "name": "stdout",
     "output_type": "stream",
     "text": [
      "predicted DIAG_NMs are  [1 1 0 1 1 0 1 0 1 0 0 0 0 1 1 1 1 0 0 1 0 0 0 1 0 0 0 1 1 0 0 1 1 1 1 0 1\n",
      " 0 0 0 1 0 0 1 1 0 0 1 0 1 1 1 0 0 1 1 1 1 0 1 1 0 1 0 0 0 0]\n"
     ]
    }
   ],
   "source": [
    "y_pred = model1.predict(xtest_scaled)\n",
    "print(\"predicted DIAG_NMs are \", y_pred)"
   ]
  },
  {
   "cell_type": "code",
   "execution_count": 82,
   "metadata": {},
   "outputs": [
    {
     "name": "stdout",
     "output_type": "stream",
     "text": [
      "[[18 15]\n",
      " [16 18]]\n"
     ]
    },
    {
     "data": {
      "image/png": "[encoded data removed]",
      "text/plain": [
       "<Figure size 640x480 with 2 Axes>"
      ]
     },
     "metadata": {},
     "output_type": "display_data"
    }
   ],
   "source": [
    "from sklearn import metrics\n",
    "\n",
    "confusion_matrix = metrics.confusion_matrix(y_test, y_pred)\n",
    "print(confusion_matrix)\n",
    "\n",
    "sns.heatmap(confusion_matrix, annot=True, cmap='Blues')\n",
    "plt.xlabel('Predicted')\n",
    "plt.ylabel('True')\n",
    "plt.show()"
   ]
  },
  {
   "cell_type": "code",
   "execution_count": 83,
   "metadata": {},
   "outputs": [
    {
     "name": "stdout",
     "output_type": "stream",
     "text": [
      "              precision    recall  f1-score   support\n",
      "\n",
      "          CN       0.53      0.55      0.54        33\n",
      "      non-CN       0.55      0.53      0.54        34\n",
      "\n",
      "    accuracy                           0.54        67\n",
      "   macro avg       0.54      0.54      0.54        67\n",
      "weighted avg       0.54      0.54      0.54        67\n",
      "\n"
     ]
    }
   ],
   "source": [
    "print(metrics.classification_report(y_test, y_pred, target_names=['CN', 'non-CN']))"
   ]
  },
  {
   "cell_type": "markdown",
   "metadata": {},
   "source": [
    "# dataset_added에서 statsmodel.Logit 활용한 Nan 많이 나오는 summary()"
   ]
  },
  {
   "cell_type": "code",
   "execution_count": 84,
   "metadata": {},
   "outputs": [
    {
     "name": "stdout",
     "output_type": "stream",
     "text": [
      "Warning: Maximum number of iterations has been exceeded.\n",
      "         Current function value: 0.586918\n",
      "         Iterations: 35\n",
      "                           Logit Regression Results                           \n",
      "==============================================================================\n",
      "Dep. Variable:        DIAG_NM_numeric   No. Observations:                  222\n",
      "Model:                          Logit   Df Residuals:                      197\n",
      "Method:                           MLE   Df Model:                           24\n",
      "Date:                Wed, 11 Dec 2024   Pseudo R-squ.:                  0.1533\n",
      "Time:                        15:22:51   Log-Likelihood:                -130.30\n",
      "converged:                      False   LL-Null:                       -153.88\n",
      "Covariance Type:            nonrobust   LLR p-value:                  0.003197\n",
      "===============================================================================================\n",
      "                                  coef    std err          z      P>|z|      [0.025      0.975]\n",
      "-----------------------------------------------------------------------------------------------\n",
      "const                         -38.0751     36.515     -1.043      0.297    -109.643      33.493\n",
      "sleep_awake                   -87.8595        nan        nan        nan         nan         nan\n",
      "sleep_breath_average            0.1701      0.167      1.018      0.309      -0.158       0.498\n",
      "sleep_deep                    -87.8597        nan        nan        nan         nan         nan\n",
      "sleep_duration                 87.8599        nan        nan        nan         nan         nan\n",
      "sleep_efficiency                0.8629      0.751      1.150      0.250      -0.608       2.334\n",
      "sleep_hr_average               -0.0221      0.143     -0.155      0.877      -0.303       0.258\n",
      "sleep_hr_lowest                -0.0046      0.164     -0.028      0.977      -0.327       0.318\n",
      "sleep_light                   -87.8592        nan        nan        nan         nan         nan\n",
      "sleep_midpoint_at_delta     -2.618e-05   3.42e-05     -0.766      0.444   -9.32e-05    4.08e-05\n",
      "sleep_midpoint_time            -0.0008      0.001     -1.461      0.144      -0.002       0.000\n",
      "sleep_onset_latency            -0.0005      0.001     -0.514      0.608      -0.002       0.001\n",
      "sleep_period_id                -0.0560      0.335     -0.167      0.867      -0.712       0.600\n",
      "sleep_rem                     -87.8588        nan        nan        nan         nan         nan\n",
      "sleep_restless                 -0.0228      0.049     -0.470      0.638      -0.118       0.072\n",
      "sleep_rmssd                    -0.0187      0.017     -1.082      0.279      -0.053       0.015\n",
      "sleep_score                     2.0688      4.616      0.448      0.654      -6.979      11.117\n",
      "sleep_score_alignment          -0.1773      0.463     -0.383      0.702      -1.085       0.731\n",
      "sleep_score_deep               -0.2054      0.465     -0.442      0.659      -1.117       0.706\n",
      "sleep_score_disturbances       -0.2812      0.699     -0.402      0.687      -1.651       1.089\n",
      "sleep_score_efficiency         -0.6538      0.604     -1.082      0.279      -1.838       0.530\n",
      "sleep_score_latency            -0.2632      0.466     -0.564      0.573      -1.177       0.651\n",
      "sleep_score_rem                -0.2858      0.468     -0.611      0.541      -1.202       0.631\n",
      "sleep_score_total              -0.7122      1.612     -0.442      0.659      -3.872       2.448\n",
      "sleep_temperature_delta         0.1485   2.04e+08   7.28e-10      1.000   -3.99e+08    3.99e+08\n",
      "sleep_temperature_deviation     0.1491   2.04e+08   7.31e-10      1.000   -3.99e+08    3.99e+08\n",
      "===============================================================================================\n"
     ]
    },
    {
     "name": "stderr",
     "output_type": "stream",
     "text": [
      "/Users/raewookang/Library/Python/3.9/lib/python/site-packages/statsmodels/base/model.py:607: ConvergenceWarning: Maximum Likelihood optimization failed to converge. Check mle_retvals\n",
      "  warnings.warn(\"Maximum Likelihood optimization failed to \"\n"
     ]
    }
   ],
   "source": [
    "from imblearn.over_sampling import SMOTE\n",
    "from collections import Counter\n",
    "\n",
    "data = pd.read_excel(\"dataset_added.xlsx\")\n",
    "\n",
    "#sleep 관련 변수 필터링\n",
    "sleep_cols = [col for col in data.columns if 'sleep_' in col.lower()]\n",
    "sleep_data = data[sleep_cols]\n",
    "\n",
    "x_bin = sleep_data\n",
    "\n",
    "mapping = {'CN': 0, 'MCI': 1, 'Dem': 1}\n",
    "data['DIAG_NM_numeric'] = data['DIAG_NM'].map(mapping)\n",
    "y_bin = data['DIAG_NM_numeric']\n",
    "\n",
    "# 오버샘플링 수행\n",
    "smote = SMOTE(random_state=42)\n",
    "x_res, y_res = smote.fit_resample(x_bin, y_bin)\n",
    "\n",
    "# Resampled 데이터를 DataFrame으로 변환\n",
    "smote_df = pd.DataFrame(x_res, columns=x_bin.columns)\n",
    "smote_df['DIAG_NM_numeric'] = y_res\n",
    "\n",
    "# X에 상수항 추가\n",
    "x_with_const_og = sm.add_constant(x_res.iloc[:,:-1])\n",
    "# 4. statsmodels로 p-value 계산\n",
    "sm_logit_model = sm.Logit(y_res, x_with_const_og)\n",
    "result = sm_logit_model.fit()\n",
    "\n",
    "# 5. 결과 출력\n",
    "print(result.summary())"
   ]
  },
  {
   "cell_type": "markdown",
   "metadata": {},
   "source": [
    "# dataset_added에서 다중공선성 보이는 독립변수 확인"
   ]
  },
  {
   "cell_type": "code",
   "execution_count": 85,
   "metadata": {},
   "outputs": [
    {
     "name": "stderr",
     "output_type": "stream",
     "text": [
      "/Users/raewookang/Library/Python/3.9/lib/python/site-packages/statsmodels/stats/outliers_influence.py:197: RuntimeWarning: divide by zero encountered in scalar divide\n",
      "  vif = 1. / (1. - r_squared_i)\n"
     ]
    },
    {
     "data": {
      "text/html": [
       "<div>\n",
       "<style scoped>\n",
       "    .dataframe tbody tr th:only-of-type {\n",
       "        vertical-align: middle;\n",
       "    }\n",
       "\n",
       "    .dataframe tbody tr th {\n",
       "        vertical-align: top;\n",
       "    }\n",
       "\n",
       "    .dataframe thead th {\n",
       "        text-align: right;\n",
       "    }\n",
       "</style>\n",
       "<table border=\"1\" class=\"dataframe\">\n",
       "  <thead>\n",
       "    <tr style=\"text-align: right;\">\n",
       "      <th></th>\n",
       "      <th>feature</th>\n",
       "      <th>VIF</th>\n",
       "    </tr>\n",
       "  </thead>\n",
       "  <tbody>\n",
       "    <tr>\n",
       "      <th>0</th>\n",
       "      <td>const</td>\n",
       "      <td>5.918182e+04</td>\n",
       "    </tr>\n",
       "    <tr>\n",
       "      <th>1</th>\n",
       "      <td>sleep_awake</td>\n",
       "      <td>inf</td>\n",
       "    </tr>\n",
       "    <tr>\n",
       "      <th>2</th>\n",
       "      <td>sleep_breath_average</td>\n",
       "      <td>1.433966e+00</td>\n",
       "    </tr>\n",
       "    <tr>\n",
       "      <th>3</th>\n",
       "      <td>sleep_deep</td>\n",
       "      <td>inf</td>\n",
       "    </tr>\n",
       "    <tr>\n",
       "      <th>4</th>\n",
       "      <td>sleep_duration</td>\n",
       "      <td>inf</td>\n",
       "    </tr>\n",
       "    <tr>\n",
       "      <th>5</th>\n",
       "      <td>sleep_efficiency</td>\n",
       "      <td>8.012138e+02</td>\n",
       "    </tr>\n",
       "    <tr>\n",
       "      <th>6</th>\n",
       "      <td>sleep_hr_average</td>\n",
       "      <td>3.777364e+01</td>\n",
       "    </tr>\n",
       "    <tr>\n",
       "      <th>7</th>\n",
       "      <td>sleep_hr_lowest</td>\n",
       "      <td>4.031639e+01</td>\n",
       "    </tr>\n",
       "    <tr>\n",
       "      <th>8</th>\n",
       "      <td>sleep_light</td>\n",
       "      <td>inf</td>\n",
       "    </tr>\n",
       "    <tr>\n",
       "      <th>9</th>\n",
       "      <td>sleep_midpoint_at_delta</td>\n",
       "      <td>2.243946e+00</td>\n",
       "    </tr>\n",
       "    <tr>\n",
       "      <th>10</th>\n",
       "      <td>sleep_midpoint_time</td>\n",
       "      <td>5.575071e+01</td>\n",
       "    </tr>\n",
       "    <tr>\n",
       "      <th>11</th>\n",
       "      <td>sleep_onset_latency</td>\n",
       "      <td>1.650690e+00</td>\n",
       "    </tr>\n",
       "    <tr>\n",
       "      <th>12</th>\n",
       "      <td>sleep_period_id</td>\n",
       "      <td>1.237040e+00</td>\n",
       "    </tr>\n",
       "    <tr>\n",
       "      <th>13</th>\n",
       "      <td>sleep_rem</td>\n",
       "      <td>inf</td>\n",
       "    </tr>\n",
       "    <tr>\n",
       "      <th>14</th>\n",
       "      <td>sleep_restless</td>\n",
       "      <td>9.810724e+00</td>\n",
       "    </tr>\n",
       "    <tr>\n",
       "      <th>15</th>\n",
       "      <td>sleep_rmssd</td>\n",
       "      <td>1.831871e+00</td>\n",
       "    </tr>\n",
       "    <tr>\n",
       "      <th>16</th>\n",
       "      <td>sleep_score</td>\n",
       "      <td>5.152944e+04</td>\n",
       "    </tr>\n",
       "    <tr>\n",
       "      <th>17</th>\n",
       "      <td>sleep_score_alignment</td>\n",
       "      <td>1.042233e+03</td>\n",
       "    </tr>\n",
       "    <tr>\n",
       "      <th>18</th>\n",
       "      <td>sleep_score_deep</td>\n",
       "      <td>2.864400e+03</td>\n",
       "    </tr>\n",
       "    <tr>\n",
       "      <th>19</th>\n",
       "      <td>sleep_score_disturbances</td>\n",
       "      <td>2.041636e+03</td>\n",
       "    </tr>\n",
       "    <tr>\n",
       "      <th>20</th>\n",
       "      <td>sleep_score_efficiency</td>\n",
       "      <td>2.458577e+03</td>\n",
       "    </tr>\n",
       "    <tr>\n",
       "      <th>21</th>\n",
       "      <td>sleep_score_latency</td>\n",
       "      <td>1.309764e+02</td>\n",
       "    </tr>\n",
       "    <tr>\n",
       "      <th>22</th>\n",
       "      <td>sleep_score_rem</td>\n",
       "      <td>3.864610e+03</td>\n",
       "    </tr>\n",
       "    <tr>\n",
       "      <th>23</th>\n",
       "      <td>sleep_score_total</td>\n",
       "      <td>1.684417e+04</td>\n",
       "    </tr>\n",
       "    <tr>\n",
       "      <th>24</th>\n",
       "      <td>sleep_temperature_delta</td>\n",
       "      <td>7.092283e+13</td>\n",
       "    </tr>\n",
       "    <tr>\n",
       "      <th>25</th>\n",
       "      <td>sleep_temperature_deviation</td>\n",
       "      <td>7.092283e+13</td>\n",
       "    </tr>\n",
       "  </tbody>\n",
       "</table>\n",
       "</div>"
      ],
      "text/plain": [
       "                        feature           VIF\n",
       "0                         const  5.918182e+04\n",
       "1                   sleep_awake           inf\n",
       "2          sleep_breath_average  1.433966e+00\n",
       "3                    sleep_deep           inf\n",
       "4                sleep_duration           inf\n",
       "5              sleep_efficiency  8.012138e+02\n",
       "6              sleep_hr_average  3.777364e+01\n",
       "7               sleep_hr_lowest  4.031639e+01\n",
       "8                   sleep_light           inf\n",
       "9       sleep_midpoint_at_delta  2.243946e+00\n",
       "10          sleep_midpoint_time  5.575071e+01\n",
       "11          sleep_onset_latency  1.650690e+00\n",
       "12              sleep_period_id  1.237040e+00\n",
       "13                    sleep_rem           inf\n",
       "14               sleep_restless  9.810724e+00\n",
       "15                  sleep_rmssd  1.831871e+00\n",
       "16                  sleep_score  5.152944e+04\n",
       "17        sleep_score_alignment  1.042233e+03\n",
       "18             sleep_score_deep  2.864400e+03\n",
       "19     sleep_score_disturbances  2.041636e+03\n",
       "20       sleep_score_efficiency  2.458577e+03\n",
       "21          sleep_score_latency  1.309764e+02\n",
       "22              sleep_score_rem  3.864610e+03\n",
       "23            sleep_score_total  1.684417e+04\n",
       "24      sleep_temperature_delta  7.092283e+13\n",
       "25  sleep_temperature_deviation  7.092283e+13"
      ]
     },
     "execution_count": 85,
     "metadata": {},
     "output_type": "execute_result"
    }
   ],
   "source": [
    "from statsmodels.stats.outliers_influence import variance_inflation_factor\n",
    "\n",
    "og_data = pd.read_excel(\"dataset_added.xlsx\")\n",
    "vif_data_og = pd.DataFrame()\n",
    "vif_data_og[\"feature\"] = x_with_const_og.columns\n",
    "vif_data_og[\"VIF\"] = [variance_inflation_factor(x_with_const_og.values, i) for i in range(x_with_const_og.shape[1])]\n",
    "\n",
    "vif_data_og"
   ]
  },
  {
   "cell_type": "code",
   "execution_count": 86,
   "metadata": {},
   "outputs": [
    {
     "name": "stdout",
     "output_type": "stream",
     "text": [
      "sleep_breath_average \t 1.4339664844359492\n",
      "sleep_midpoint_at_delta \t 2.243945906071945\n",
      "sleep_onset_latency \t 1.6506902037144648\n",
      "sleep_period_id \t 1.237040285022134\n",
      "sleep_rmssd \t 1.8318714053170018\n"
     ]
    }
   ],
   "source": [
    "vif_above_five = []\n",
    "for row in vif_data_og.iterrows():\n",
    "    if row[1][\"VIF\"] != \"inf\" and row[1][\"VIF\"] < 5:\n",
    "        vif_above_five.append(row[1])\n",
    "for i in vif_above_five:\n",
    "    print(i[\"feature\"],\"\\t\",i[\"VIF\"])"
   ]
  },
  {
   "cell_type": "markdown",
   "metadata": {},
   "source": [
    "### 다중공선성 확인 및 제거한 데이터를 기반으로 추출한 statsmodel.Logit()"
   ]
  },
  {
   "cell_type": "code",
   "execution_count": 87,
   "metadata": {},
   "outputs": [
    {
     "name": "stdout",
     "output_type": "stream",
     "text": [
      "Optimization terminated successfully.\n",
      "         Current function value: 0.685176\n",
      "         Iterations 4\n",
      "                           Logit Regression Results                           \n",
      "==============================================================================\n",
      "Dep. Variable:        DIAG_NM_numeric   No. Observations:                  222\n",
      "Model:                          Logit   Df Residuals:                      216\n",
      "Method:                           MLE   Df Model:                            5\n",
      "Date:                Wed, 11 Dec 2024   Pseudo R-squ.:                 0.01150\n",
      "Time:                        15:22:51   Log-Likelihood:                -152.11\n",
      "converged:                       True   LL-Null:                       -153.88\n",
      "Covariance Type:            nonrobust   LLR p-value:                    0.6175\n",
      "===========================================================================================\n",
      "                              coef    std err          z      P>|z|      [0.025      0.975]\n",
      "-------------------------------------------------------------------------------------------\n",
      "const                      -1.9099      2.457     -0.777      0.437      -6.726       2.906\n",
      "sleep_breath_average        0.1311      0.133      0.987      0.324      -0.129       0.391\n",
      "sleep_midpoint_at_delta  1.597e-06   2.04e-05      0.078      0.938   -3.85e-05    4.17e-05\n",
      "sleep_onset_latency         0.0002      0.001      0.236      0.813      -0.001       0.001\n",
      "sleep_period_id            -0.4262      0.287     -1.486      0.137      -0.988       0.136\n",
      "sleep_rmssd                -0.0015      0.012     -0.131      0.896      -0.024       0.021\n",
      "===========================================================================================\n"
     ]
    }
   ],
   "source": [
    "from imblearn.over_sampling import SMOTE\n",
    "from collections import Counter\n",
    "\n",
    "del_data = pd.read_excel(\"dataset_added_deleted.xlsx\")\n",
    "\n",
    "#sleep 관련 변수 필터링\n",
    "sleep_cols = [col for col in del_data.columns if 'sleep_' in col.lower()]\n",
    "sleep_data = del_data[sleep_cols]\n",
    "\n",
    "x_bin = sleep_data\n",
    "\n",
    "mapping = {'CN': 0, 'MCI': 1, 'Dem': 1}\n",
    "del_data['DIAG_NM_numeric'] = del_data['DIAG_NM'].map(mapping)\n",
    "y_bin = del_data['DIAG_NM_numeric']\n",
    "\n",
    "# 오버샘플링 수행\n",
    "smote = SMOTE(random_state=42)\n",
    "x_res, y_res = smote.fit_resample(x_bin, y_bin)\n",
    "\n",
    "# Resampled 데이터를 DataFrame으로 변환\n",
    "smote_df = pd.DataFrame(x_res, columns=x_bin.columns)\n",
    "smote_df['DIAG_NM_numeric'] = y_res\n",
    "\n",
    "# X에 상수항 추가\n",
    "x_with_const = sm.add_constant(x_res.iloc[:,:])\n",
    "\n",
    "# 4. statsmodels로 p-value 계산\n",
    "sm_logit_model = sm.Logit(y_res, x_with_const)\n",
    "result = sm_logit_model.fit()\n",
    "\n",
    "# 5. 결과 출력\n",
    "print(result.summary())"
   ]
  }
 ],
 "metadata": {
  "kernelspec": {
   "display_name": "Python 3",
   "language": "python",
   "name": "python3"
  },
  "language_info": {
   "codemirror_mode": {
    "name": "ipython",
    "version": 3
   },
   "file_extension": ".py",
   "mimetype": "text/x-python",
   "name": "python",
   "nbconvert_exporter": "python",
   "pygments_lexer": "ipython3",
   "version": "3.9.6"
  }
 },
 "nbformat": 4,
 "nbformat_minor": 2
}
